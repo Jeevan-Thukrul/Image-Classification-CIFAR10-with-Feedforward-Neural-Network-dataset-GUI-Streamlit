{
 "cells": [
  {
   "cell_type": "markdown",
   "metadata": {
    "colab_type": "text",
    "id": "S0TwmJhSSNip"
   },
   "source": [
    "# **CIFAR10**"
   ]
  },
  {
   "cell_type": "code",
   "execution_count": 323,
   "metadata": {
    "colab": {},
    "colab_type": "code",
    "id": "4EHvKLbawPfx"
   },
   "outputs": [],
   "source": [
    "from tensorflow.keras.datasets import cifar10\n",
    "from matplotlib import pyplot as plt\n",
    "from tensorflow import keras\n",
    "import tensorflow.compat.v2 as tf\n",
    "from sklearn.model_selection import train_test_split\n",
    "from tensorflow.keras.utils import to_categorical as tcg\n",
    "from tensorflow.keras.models import Sequential\n",
    "from tensorflow.keras.layers import Dense, Flatten"
   ]
  },
  {
   "cell_type": "code",
   "execution_count": 324,
   "metadata": {
    "colab": {
     "base_uri": "https://localhost:8080/",
     "height": 50
    },
    "colab_type": "code",
    "id": "SMrjszw7xZFw",
    "outputId": "219cb504-80d8-483c-f29c-fd4a69ed99bb"
   },
   "outputs": [],
   "source": [
    "(xtr,ytr),(xte,yte)=cifar10.load_data()"
   ]
  },
  {
   "cell_type": "code",
   "execution_count": 325,
   "metadata": {
    "colab": {
     "base_uri": "https://localhost:8080/",
     "height": 34
    },
    "colab_type": "code",
    "id": "hjZkN-tH0rxh",
    "outputId": "30098fd6-65fa-40ba-c4e3-3a9a9411eec5"
   },
   "outputs": [
    {
     "data": {
      "text/plain": [
       "(50000, 32, 32, 3)"
      ]
     },
     "execution_count": 325,
     "metadata": {},
     "output_type": "execute_result"
    }
   ],
   "source": [
    "xtr.shape"
   ]
  },
  {
   "cell_type": "code",
   "execution_count": 326,
   "metadata": {
    "colab": {
     "base_uri": "https://localhost:8080/",
     "height": 283
    },
    "colab_type": "code",
    "id": "4K1G54bHBx66",
    "outputId": "a325f022-976c-45a3-f19b-5dbdf898f23c"
   },
   "outputs": [
    {
     "data": {
      "text/plain": [
       "<matplotlib.image.AxesImage at 0x24cb76aeb70>"
      ]
     },
     "execution_count": 326,
     "metadata": {},
     "output_type": "execute_result"
    },
    {
     "data": {
      "image/png": "[encoded data removed]",
      "text/plain": [
       "<Figure size 432x288 with 1 Axes>"
      ]
     },
     "metadata": {
      "needs_background": "light"
     },
     "output_type": "display_data"
    }
   ],
   "source": [
    "plt.imshow(xtr[99], cmap='gray')"
   ]
  },
  {
   "cell_type": "code",
   "execution_count": 327,
   "metadata": {
    "colab": {
     "base_uri": "https://localhost:8080/",
     "height": 34
    },
    "colab_type": "code",
    "id": "P4NfYkwQDNA-",
    "outputId": "0eaf5a58-6af2-41f3-dc28-357ae970b411"
   },
   "outputs": [
    {
     "data": {
      "text/plain": [
       "array([1], dtype=uint8)"
      ]
     },
     "execution_count": 327,
     "metadata": {},
     "output_type": "execute_result"
    }
   ],
   "source": [
    "ytr[99]"
   ]
  },
  {
   "cell_type": "code",
   "execution_count": 328,
   "metadata": {
    "colab": {
     "base_uri": "https://localhost:8080/",
     "height": 283
    },
    "colab_type": "code",
    "id": "O3HFAc1UqETZ",
    "outputId": "72bb4b66-3101-460e-be58-3af73471dec4"
   },
   "outputs": [
    {
     "data": {
      "text/plain": [
       "<matplotlib.image.AxesImage at 0x24cb75e9978>"
      ]
     },
     "execution_count": 328,
     "metadata": {},
     "output_type": "execute_result"
    },
    {
     "data": {
      "image/png": "[encoded data removed]",
      "text/plain": [
       "<Figure size 432x288 with 1 Axes>"
      ]
     },
     "metadata": {
      "needs_background": "light"
     },
     "output_type": "display_data"
    }
   ],
   "source": [
    "plt.imshow(xte[99], cmap='gray')"
   ]
  },
  {
   "cell_type": "code",
   "execution_count": 329,
   "metadata": {
    "colab": {
     "base_uri": "https://localhost:8080/",
     "height": 34
    },
    "colab_type": "code",
    "id": "j6jzqki2qLmb",
    "outputId": "085eae40-8441-4782-beb5-0497ba498a03"
   },
   "outputs": [
    {
     "data": {
      "text/plain": [
       "array([7], dtype=uint8)"
      ]
     },
     "execution_count": 329,
     "metadata": {},
     "output_type": "execute_result"
    }
   ],
   "source": [
    "yte[99]"
   ]
  },
  {
   "cell_type": "code",
   "execution_count": 330,
   "metadata": {
    "colab": {},
    "colab_type": "code",
    "id": "ZKJ7-AwK0q2w"
   },
   "outputs": [],
   "source": [
    "ytr=tcg(ytr)\n",
    "yte=tcg(yte)"
   ]
  },
  {
   "cell_type": "code",
   "execution_count": 331,
   "metadata": {
    "colab": {},
    "colab_type": "code",
    "id": "-TRlMrFhxaHS"
   },
   "outputs": [],
   "source": [
    "xte=xte.reshape(xte.shape[0],xte.shape[1],xte.shape[2],3).astype('float32')/255\n",
    "xtr=xtr.reshape(xtr.shape[0],xtr.shape[1],xtr.shape[2],3).astype('float32')/255"
   ]
  },
  {
   "cell_type": "code",
   "execution_count": 332,
   "metadata": {
    "colab": {},
    "colab_type": "code",
    "id": "488ekMPttqQP"
   },
   "outputs": [],
   "source": [
    "model = Sequential([\n",
    "  Flatten(input_shape=(32, 32, 3)),\n",
    "  Dense(256, activation='relu'),\n",
    "  Dense(128, activation='relu'),\n",
    "  Dense(64, activation='relu'),\n",
    "  Dense(10, activation='softmax'),\n",
    "])"
   ]
  },
  {
   "cell_type": "code",
   "execution_count": 333,
   "metadata": {
    "colab": {},
    "colab_type": "code",
    "id": "Cwvo7vHlYfxh"
   },
   "outputs": [],
   "source": [
    "model.compile(loss='categorical_crossentropy',optimizer='adam', metrics=['accuracy'])"
   ]
  },
  {
   "cell_type": "code",
   "execution_count": 334,
   "metadata": {
    "colab": {
     "base_uri": "https://localhost:8080/",
     "height": 454
    },
    "colab_type": "code",
    "id": "xufOKyQkYvTe",
    "outputId": "ec0ebfa8-9657-4747-f9af-6bbb181b6c08"
   },
   "outputs": [
    {
     "name": "stdout",
     "output_type": "stream",
     "text": [
      "Train on 50000 samples, validate on 10000 samples\n",
      "Epoch 1/13\n",
      "50000/50000 [==============================] - 4s 81us/sample - loss: 1.8921 - accuracy: 0.3194 - val_loss: 1.7510 - val_accuracy: 0.3706\n",
      "Epoch 2/13\n",
      "50000/50000 [==============================] - 3s 56us/sample - loss: 1.7006 - accuracy: 0.3904 - val_loss: 1.6906 - val_accuracy: 0.3852\n",
      "Epoch 3/13\n",
      "50000/50000 [==============================] - 3s 55us/sample - loss: 1.6201 - accuracy: 0.4203 - val_loss: 1.6091 - val_accuracy: 0.4206\n",
      "Epoch 4/13\n",
      "50000/50000 [==============================] - 3s 55us/sample - loss: 1.5667 - accuracy: 0.4399 - val_loss: 1.6129 - val_accuracy: 0.4189\n",
      "Epoch 5/13\n",
      "50000/50000 [==============================] - 3s 62us/sample - loss: 1.5246 - accuracy: 0.4544 - val_loss: 1.5154 - val_accuracy: 0.4586\n",
      "Epoch 6/13\n",
      "50000/50000 [==============================] - 3s 61us/sample - loss: 1.4845 - accuracy: 0.4712 - val_loss: 1.5105 - val_accuracy: 0.4637\n",
      "Epoch 7/13\n",
      "50000/50000 [==============================] - 3s 61us/sample - loss: 1.4616 - accuracy: 0.4741 - val_loss: 1.5424 - val_accuracy: 0.4422\n",
      "Epoch 8/13\n",
      "50000/50000 [==============================] - 3s 54us/sample - loss: 1.4374 - accuracy: 0.4850 - val_loss: 1.4717 - val_accuracy: 0.4724\n",
      "Epoch 9/13\n",
      "50000/50000 [==============================] - 3s 56us/sample - loss: 1.4032 - accuracy: 0.4999 - val_loss: 1.5038 - val_accuracy: 0.4636\n",
      "Epoch 10/13\n",
      "50000/50000 [==============================] - 3s 59us/sample - loss: 1.3908 - accuracy: 0.5031 - val_loss: 1.4730 - val_accuracy: 0.4745\n",
      "Epoch 11/13\n",
      "50000/50000 [==============================] - 3s 62us/sample - loss: 1.3755 - accuracy: 0.5094 - val_loss: 1.4184 - val_accuracy: 0.4937\n",
      "Epoch 12/13\n",
      "50000/50000 [==============================] - 3s 61us/sample - loss: 1.3503 - accuracy: 0.5170 - val_loss: 1.4223 - val_accuracy: 0.4903\n",
      "Epoch 13/13\n",
      "50000/50000 [==============================] - 3s 58us/sample - loss: 1.3336 - accuracy: 0.5257 - val_loss: 1.3964 - val_accuracy: 0.5042\n"
     ]
    }
   ],
   "source": [
    "history = model.fit(xtr,ytr, validation_data=(xte,yte),epochs=13, batch_size=128)"
   ]
  },
  {
   "cell_type": "code",
   "execution_count": 335,
   "metadata": {
    "colab": {
     "base_uri": "https://localhost:8080/",
     "height": 50
    },
    "colab_type": "code",
    "id": "EInMzdXLd5o8",
    "outputId": "f273b50d-6cbd-4a55-a0f0-178c7e2cfede"
   },
   "outputs": [
    {
     "name": "stdout",
     "output_type": "stream",
     "text": [
      "50000/50000 [==============================] - 2s 49us/sample - loss: 1.2841 - accuracy: 0.5414\n"
     ]
    },
    {
     "data": {
      "text/plain": [
       "[1.2841482346343993, 0.54142]"
      ]
     },
     "execution_count": 335,
     "metadata": {},
     "output_type": "execute_result"
    }
   ],
   "source": [
    "model.evaluate(xtr,ytr)"
   ]
  },
  {
   "cell_type": "code",
   "execution_count": 336,
   "metadata": {
    "colab": {
     "base_uri": "https://localhost:8080/",
     "height": 34
    },
    "colab_type": "code",
    "id": "NX3dcCLwOTP4",
    "outputId": "766fa9b6-b9ce-42f7-912f-bd5130883656"
   },
   "outputs": [
    {
     "name": "stdout",
     "output_type": "stream",
     "text": [
      "10000/10000 [==============================] - 0s 49us/sample - loss: 1.3964 - accuracy: 0.5042s - loss: 1.3987 - accuracy: 0.\n"
     ]
    }
   ],
   "source": [
    "score = model.evaluate(xte,yte)"
   ]
  },
  {
   "cell_type": "code",
   "execution_count": 337,
   "metadata": {
    "colab": {
     "base_uri": "https://localhost:8080/",
     "height": 50
    },
    "colab_type": "code",
    "id": "SHmlsgxbA_Bk",
    "outputId": "6b4de75a-51ce-4f35-a8ee-664f0ab60991"
   },
   "outputs": [
    {
     "name": "stdout",
     "output_type": "stream",
     "text": [
      "Test loss: 1.3964487085342407\n",
      "Test accuracy: 0.5042\n"
     ]
    }
   ],
   "source": [
    "print('Test loss:', score[0])\n",
    "print('Test accuracy:', score[1])"
   ]
  },
  {
   "cell_type": "code",
   "execution_count": 338,
   "metadata": {
    "colab": {
     "base_uri": "https://localhost:8080/",
     "height": 295
    },
    "colab_type": "code",
    "id": "EGHODHTGBUyv",
    "outputId": "519a3819-c5a1-40b7-d51a-a9cc621b9c76"
   },
   "outputs": [
    {
     "data": {
      "image/png": "[encoded data removed]",
      "text/plain": [
       "<Figure size 432x288 with 1 Axes>"
      ]
     },
     "metadata": {
      "needs_background": "light"
     },
     "output_type": "display_data"
    }
   ],
   "source": [
    "plt.plot(history.history['accuracy'])\n",
    "plt.plot(history.history['val_accuracy'])\n",
    "plt.title('model accuracy')\n",
    "plt.ylabel('accuracy')\n",
    "plt.xlabel('epoch')\n",
    "plt.legend(['train', 'test'], loc='upper left')\n",
    "plt.show()"
   ]
  },
  {
   "cell_type": "code",
   "execution_count": 339,
   "metadata": {
    "colab": {
     "base_uri": "https://localhost:8080/",
     "height": 295
    },
    "colab_type": "code",
    "id": "WyN_Wd31kLKS",
    "outputId": "1c13b4d6-686e-4cbb-911c-58971897269d"
   },
   "outputs": [
    {
     "data": {
      "image/png": "[encoded data removed]",
      "text/plain": [
       "<Figure size 432x288 with 1 Axes>"
      ]
     },
     "metadata": {
      "needs_background": "light"
     },
     "output_type": "display_data"
    }
   ],
   "source": [
    "plt.plot(history.history['loss'])\n",
    "plt.plot(history.history['val_loss'])\n",
    "plt.title('model loss')\n",
    "plt.ylabel('loss')\n",
    "plt.xlabel('epoch')\n",
    "plt.legend(['train', 'test'], loc='upper left')\n",
    "plt.show()"
   ]
  },
  {
   "cell_type": "code",
   "execution_count": 340,
   "metadata": {
    "colab": {},
    "colab_type": "code",
    "id": "sBB5w1wsIjR_"
   },
   "outputs": [],
   "source": [
    "model.save(\"cifar.h5\")"
   ]
  },
  {
   "cell_type": "code",
   "execution_count": 341,
   "metadata": {
    "colab": {},
    "colab_type": "code",
    "id": "4DE2jirPIr45"
   },
   "outputs": [],
   "source": [
    "model.load_weights(\"cifar.h5\")"
   ]
  },
  {
   "cell_type": "code",
   "execution_count": 342,
   "metadata": {
    "colab": {
     "base_uri": "https://localhost:8080/",
     "height": 319
    },
    "colab_type": "code",
    "id": "aBrEpp4YIxGR",
    "outputId": "9d2e2d3a-08a1-4b75-b26c-f273ca057311"
   },
   "outputs": [
    {
     "name": "stdout",
     "output_type": "stream",
     "text": [
      "Model: \"sequential_14\"\n",
      "_________________________________________________________________\n",
      "Layer (type)                 Output Shape              Param #   \n",
      "=================================================================\n",
      "flatten_14 (Flatten)         (None, 3072)              0         \n",
      "_________________________________________________________________\n",
      "dense_56 (Dense)             (None, 256)               786688    \n",
      "_________________________________________________________________\n",
      "dense_57 (Dense)             (None, 128)               32896     \n",
      "_________________________________________________________________\n",
      "dense_58 (Dense)             (None, 64)                8256      \n",
      "_________________________________________________________________\n",
      "dense_59 (Dense)             (None, 10)                650       \n",
      "=================================================================\n",
      "Total params: 828,490\n",
      "Trainable params: 828,490\n",
      "Non-trainable params: 0\n",
      "_________________________________________________________________\n"
     ]
    }
   ],
   "source": [
    "loaded_model = tf.keras.models.load_model(\"cifar.h5\")\n",
    "\n",
    "loaded_model.summary()"
   ]
  },
  {
   "cell_type": "code",
   "execution_count": 343,
   "metadata": {
    "colab": {
     "base_uri": "https://localhost:8080/",
     "height": 34
    },
    "colab_type": "code",
    "id": "PWq07Y5OI54E",
    "outputId": "cab3c3c7-aacf-4a53-85fd-f65c6495becb"
   },
   "outputs": [
    {
     "data": {
      "text/plain": [
       "(10000, 32, 32, 3)"
      ]
     },
     "execution_count": 343,
     "metadata": {},
     "output_type": "execute_result"
    }
   ],
   "source": [
    "xte.shape"
   ]
  },
  {
   "cell_type": "code",
   "execution_count": 344,
   "metadata": {
    "colab": {
     "base_uri": "https://localhost:8080/",
     "height": 283
    },
    "colab_type": "code",
    "id": "_xlr4qohJFWt",
    "outputId": "f0be7d3a-b336-4e44-801d-edc8dd8ffc77"
   },
   "outputs": [
    {
     "data": {
      "text/plain": [
       "<matplotlib.image.AxesImage at 0x24cbb5e93c8>"
      ]
     },
     "execution_count": 344,
     "metadata": {},
     "output_type": "execute_result"
    },
    {
     "data": {
      "image/png": "[encoded data removed]",
      "text/plain": [
       "<Figure size 432x288 with 1 Axes>"
      ]
     },
     "metadata": {
      "needs_background": "light"
     },
     "output_type": "display_data"
    }
   ],
   "source": [
    "plt.imshow(xte[16])"
   ]
  },
  {
   "cell_type": "code",
   "execution_count": 345,
   "metadata": {
    "colab": {},
    "colab_type": "code",
    "id": "G1JVybT6KwVx"
   },
   "outputs": [],
   "source": [
    "img=xte[16].reshape(1, 32, 32, 3)"
   ]
  },
  {
   "cell_type": "code",
   "execution_count": 346,
   "metadata": {
    "colab": {
     "base_uri": "https://localhost:8080/",
     "height": 50
    },
    "colab_type": "code",
    "id": "u8oYJWWenQCq",
    "outputId": "1a86d59e-75bb-4808-d07d-93358b105212"
   },
   "outputs": [
    {
     "name": "stdout",
     "output_type": "stream",
     "text": [
      "Predicted sign: [[0.00454176 0.01721674 0.00844145 0.39126828 0.00554516 0.4120363\n",
      "  0.00405437 0.14187826 0.00296579 0.01205203]]\n"
     ]
    }
   ],
   "source": [
    "print(\"Predicted sign: \"+ str(loaded_model.predict(img)))"
   ]
  },
  {
   "cell_type": "code",
   "execution_count": 347,
   "metadata": {
    "colab": {
     "base_uri": "https://localhost:8080/",
     "height": 104
    },
    "colab_type": "code",
    "id": "iMC7RkiOJR0m",
    "outputId": "35ce0c48-e9b3-473d-c097-651efa1384a0"
   },
   "outputs": [
    {
     "name": "stdout",
     "output_type": "stream",
     "text": [
      "Predicted Sign[5]\n"
     ]
    }
   ],
   "source": [
    "print(\"Predicted Sign\" + str(loaded_model.predict_classes(img)))"
   ]
  }
 ],
 "metadata": {
  "accelerator": "GPU",
  "colab": {
   "collapsed_sections": [],
   "name": "CIFAR10.ipynb",
   "provenance": []
  },
  "kernelspec": {
   "display_name": "Python 3",
   "language": "python",
   "name": "python3"
  },
  "language_info": {
   "codemirror_mode": {
    "name": "ipython",
    "version": 3
   },
   "file_extension": ".py",
   "mimetype": "text/x-python",
   "name": "python",
   "nbconvert_exporter": "python",
   "pygments_lexer": "ipython3",
   "version": "3.6.10"
  }
 },
 "nbformat": 4,
 "nbformat_minor": 1
}
